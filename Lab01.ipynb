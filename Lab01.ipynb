{
  "nbformat": 4,
  "nbformat_minor": 0,
  "metadata": {
    "colab": {
      "provenance": [],
      "authorship_tag": "ABX9TyMZHQMddwokGBityZwviMKm",
      "include_colab_link": true
    },
    "kernelspec": {
      "name": "python3",
      "display_name": "Python 3"
    },
    "language_info": {
      "name": "python"
    }
  },
  "cells": [
    {
      "cell_type": "markdown",
      "metadata": {
        "id": "view-in-github",
        "colab_type": "text"
      },
      "source": [
        "<a href=\"https://colab.research.google.com/github/juhyyy/code_study/blob/main/Lab01.ipynb\" target=\"_parent\"><img src=\"https://colab.research.google.com/assets/colab-badge.svg\" alt=\"Open In Colab\"/></a>"
      ]
    },
    {
      "cell_type": "code",
      "execution_count": null,
      "metadata": {
        "id": "rbb5mHd6VdQ6"
      },
      "outputs": [],
      "source": [
        "import numpy as np"
      ]
    },
    {
      "cell_type": "code",
      "source": [
        "import tensorflow as tf"
      ],
      "metadata": {
        "id": "AfmDhwV_VgK5"
      },
      "execution_count": null,
      "outputs": []
    },
    {
      "cell_type": "code",
      "source": [
        "x_train = [1, 2, 3, 4]\n",
        "y_train = [0,-1,-2,-3]"
      ],
      "metadata": {
        "id": "ENxiTityVt7T"
      },
      "execution_count": null,
      "outputs": []
    },
    {
      "cell_type": "code",
      "source": [
        "tf.model = tf.keras.Sequential()"
      ],
      "metadata": {
        "id": "RRa8r_TUYqXe"
      },
      "execution_count": null,
      "outputs": []
    },
    {
      "cell_type": "code",
      "source": [
        "tf.model.add(tf.keras.layers.Dense(units=1, input_dim=1))\n",
        "sgd= tf.keras.optimizers.SGD(lr=0.1)\n"
      ],
      "metadata": {
        "colab": {
          "base_uri": "https://localhost:8080/"
        },
        "id": "WoAFdGApYy3w",
        "outputId": "ac6cb829-017c-45c1-c754-7c719d93cc89"
      },
      "execution_count": null,
      "outputs": [
        {
          "output_type": "stream",
          "name": "stderr",
          "text": [
            "/usr/local/lib/python3.8/dist-packages/keras/optimizers/optimizer_v2/gradient_descent.py:108: UserWarning: The `lr` argument is deprecated, use `learning_rate` instead.\n",
            "  super(SGD, self).__init__(name, **kwargs)\n"
          ]
        }
      ]
    },
    {
      "cell_type": "code",
      "source": [
        "tf.model.compile(loss='mse', optimizer=sgd)"
      ],
      "metadata": {
        "id": "BXJMXLDHZfeo"
      },
      "execution_count": null,
      "outputs": []
    },
    {
      "cell_type": "code",
      "source": [
        "tf.model.summary()"
      ],
      "metadata": {
        "colab": {
          "base_uri": "https://localhost:8080/"
        },
        "id": "ADR6u61HZsCA",
        "outputId": "f3ee5f22-035c-4829-d491-8d6e02ac7827"
      },
      "execution_count": null,
      "outputs": [
        {
          "output_type": "stream",
          "name": "stdout",
          "text": [
            "Model: \"sequential_1\"\n",
            "_________________________________________________________________\n",
            " Layer (type)                Output Shape              Param #   \n",
            "=================================================================\n",
            " dense_3 (Dense)             (None, 1)                 2         \n",
            "                                                                 \n",
            "=================================================================\n",
            "Total params: 2\n",
            "Trainable params: 2\n",
            "Non-trainable params: 0\n",
            "_________________________________________________________________\n"
          ]
        }
      ]
    },
    {
      "cell_type": "code",
      "source": [
        "tf.model.fit(x_train,y_train, epochs=20)\n"
      ],
      "metadata": {
        "colab": {
          "base_uri": "https://localhost:8080/"
        },
        "id": "cv6ZZAKuZvuI",
        "outputId": "7e2a4ae5-9209-48bb-fb52-248069ccc430"
      },
      "execution_count": null,
      "outputs": [
        {
          "output_type": "stream",
          "name": "stdout",
          "text": [
            "Epoch 1/20\n",
            "1/1 [==============================] - 0s 183ms/step - loss: 0.5205\n",
            "Epoch 2/20\n",
            "1/1 [==============================] - 0s 11ms/step - loss: 0.3050\n",
            "Epoch 3/20\n",
            "1/1 [==============================] - 0s 7ms/step - loss: 0.2041\n",
            "Epoch 4/20\n",
            "1/1 [==============================] - 0s 13ms/step - loss: 0.1548\n",
            "Epoch 5/20\n",
            "1/1 [==============================] - 0s 16ms/step - loss: 0.1289\n",
            "Epoch 6/20\n",
            "1/1 [==============================] - 0s 6ms/step - loss: 0.1138\n",
            "Epoch 7/20\n",
            "1/1 [==============================] - 0s 8ms/step - loss: 0.1037\n",
            "Epoch 8/20\n",
            "1/1 [==============================] - 0s 8ms/step - loss: 0.0961\n",
            "Epoch 9/20\n",
            "1/1 [==============================] - 0s 6ms/step - loss: 0.0898\n",
            "Epoch 10/20\n",
            "1/1 [==============================] - 0s 9ms/step - loss: 0.0842\n",
            "Epoch 11/20\n",
            "1/1 [==============================] - 0s 10ms/step - loss: 0.0791\n",
            "Epoch 12/20\n",
            "1/1 [==============================] - 0s 11ms/step - loss: 0.0743\n",
            "Epoch 13/20\n",
            "1/1 [==============================] - 0s 8ms/step - loss: 0.0699\n",
            "Epoch 14/20\n",
            "1/1 [==============================] - 0s 9ms/step - loss: 0.0658\n",
            "Epoch 15/20\n",
            "1/1 [==============================] - 0s 7ms/step - loss: 0.0619\n",
            "Epoch 16/20\n",
            "1/1 [==============================] - 0s 7ms/step - loss: 0.0583\n",
            "Epoch 17/20\n",
            "1/1 [==============================] - 0s 7ms/step - loss: 0.0548\n",
            "Epoch 18/20\n",
            "1/1 [==============================] - 0s 10ms/step - loss: 0.0516\n",
            "Epoch 19/20\n",
            "1/1 [==============================] - 0s 8ms/step - loss: 0.0485\n",
            "Epoch 20/20\n",
            "1/1 [==============================] - 0s 7ms/step - loss: 0.0457\n"
          ]
        },
        {
          "output_type": "execute_result",
          "data": {
            "text/plain": [
              "<keras.callbacks.History at 0x7fa8ee286130>"
            ]
          },
          "metadata": {},
          "execution_count": 29
        }
      ]
    },
    {
      "cell_type": "code",
      "source": [
        "y_predict = tf.model.predict(np.array([5, 4]))\n"
      ],
      "metadata": {
        "colab": {
          "base_uri": "https://localhost:8080/"
        },
        "id": "vMaO1vTmbMO4",
        "outputId": "851aebac-aab9-4ba6-e70a-36f046c136de"
      },
      "execution_count": null,
      "outputs": [
        {
          "output_type": "stream",
          "name": "stdout",
          "text": [
            "1/1 [==============================] - 0s 37ms/step\n"
          ]
        }
      ]
    },
    {
      "cell_type": "code",
      "source": [
        "y_predict = tf.model.predict(np.array([5,4]))"
      ],
      "metadata": {
        "colab": {
          "base_uri": "https://localhost:8080/"
        },
        "id": "JEMGzgEPbRBX",
        "outputId": "929d523d-334a-40b8-d95b-526dd980c9b6"
      },
      "execution_count": null,
      "outputs": [
        {
          "output_type": "stream",
          "name": "stdout",
          "text": [
            "1/1 [==============================] - 0s 14ms/step\n"
          ]
        }
      ]
    },
    {
      "cell_type": "code",
      "source": [
        "\n",
        "print(y_predict)\n"
      ],
      "metadata": {
        "colab": {
          "base_uri": "https://localhost:8080/"
        },
        "id": "bSsXEq6bbnVC",
        "outputId": "935ff9a5-019e-4e78-93c2-3531a35fc285"
      },
      "execution_count": null,
      "outputs": [
        {
          "output_type": "stream",
          "name": "stdout",
          "text": [
            "[[-3.644939 ]\n",
            " [-2.8174155]]\n"
          ]
        }
      ]
    },
    {
      "cell_type": "code",
      "source": [],
      "metadata": {
        "id": "OcQdC0Nfbqhi"
      },
      "execution_count": null,
      "outputs": []
    }
  ]
}